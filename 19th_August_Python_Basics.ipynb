{
 "cells": [
  {
   "cell_type": "code",
   "execution_count": 1,
   "id": "f1d71878-940d-40ab-8e9c-ce06eb7a625f",
   "metadata": {},
   "outputs": [],
   "source": [
    "# TOPIC: Python Basics Variable\n",
    "#1. Declare two variables, `x` and `y`, and assign them integer values. \n",
    "#   Swap the values of these variables without using any temporary variable."
   ]
  },
  {
   "cell_type": "code",
   "execution_count": 2,
   "id": "c63f8b58-1c1e-49f0-9817-9c45fa323ed4",
   "metadata": {},
   "outputs": [
    {
     "name": "stdout",
     "output_type": "stream",
     "text": [
      "Before swapping x =  3  and y =  5\n",
      "After swapping x =  5  and y =  3\n"
     ]
    }
   ],
   "source": [
    "# Declare two variables, `x` and `y`, and assign them integer values. \n",
    "x=3\n",
    "y=5\n",
    "\n",
    "print(\"Before swapping x = \", x, \" and y = \",y)\n",
    "\n",
    "# Swap the values\n",
    "x, y = y, x\n",
    "\n",
    "print(\"After swapping x = \",x, \" and y = \",y)"
   ]
  },
  {
   "cell_type": "code",
   "execution_count": 3,
   "id": "b4e9869f-f560-48a7-bfb9-cfb639a7a1b1",
   "metadata": {},
   "outputs": [],
   "source": [
    "#2. Create a program that calculates the area of a rectangle. \n",
    "#   Take the length and width as inputs from the user and store them in variables. \n",
    "#   Calculate and display the area."
   ]
  },
  {
   "cell_type": "code",
   "execution_count": 4,
   "id": "ff507fb1-7c88-4f5f-a7a5-21fc3c06b23e",
   "metadata": {},
   "outputs": [
    {
     "name": "stdin",
     "output_type": "stream",
     "text": [
      "Enter length of rectangle 4\n",
      "Enter width of rectangle 3\n"
     ]
    },
    {
     "name": "stdout",
     "output_type": "stream",
     "text": [
      "Area of rectangle:  12.0\n"
     ]
    }
   ],
   "source": [
    "# Take the length and width as inputs\n",
    "a = float(input(\"Enter length of rectangle\"))\n",
    "b = float(input(\"Enter width of rectangle\"))\n",
    "\n",
    "# display the area\n",
    "print(\"Area of rectangle: \", a*b)"
   ]
  },
  {
   "cell_type": "code",
   "execution_count": 5,
   "id": "a32a6e44-f90e-415d-a9b4-f8875dcb7d6b",
   "metadata": {},
   "outputs": [],
   "source": [
    "#3. Write a Python program that converts temperatures from Celsius to Fahrenheit. \n",
    "#   Take the temperature in Celsius as input, store it in a variable, convert it to Fahrenheit, and display the result."
   ]
  },
  {
   "cell_type": "code",
   "execution_count": 6,
   "id": "5ccb37d8-4b11-4c97-a094-04e981ea2f45",
   "metadata": {},
   "outputs": [
    {
     "name": "stdin",
     "output_type": "stream",
     "text": [
      "Enter temperature in celsius 37\n"
     ]
    },
    {
     "name": "stdout",
     "output_type": "stream",
     "text": [
      "Temperature in fahrenheit is  98.60000000000001\n"
     ]
    }
   ],
   "source": [
    "# Take the temperature in Celsius as input\n",
    "tc = float(input(\"Enter temperature in celsius\"))\n",
    "\n",
    "# converts temperatures from Celsius to Fahrenheit\n",
    "tf = (tc*1.8) + 32\n",
    "\n",
    "# display the result in fahrenheit\n",
    "print(\"Temperature in fahrenheit is \", tf)"
   ]
  },
  {
   "cell_type": "code",
   "execution_count": 7,
   "id": "6fce8a7e-cfe6-42e5-825d-744c72d3992c",
   "metadata": {},
   "outputs": [],
   "source": [
    "# TOPIC: String Based Questions\n",
    "# 1. Write a Python program that takes a string as input and prints the length of the string."
   ]
  },
  {
   "cell_type": "code",
   "execution_count": 8,
   "id": "0e483e4a-52eb-4d0c-88f8-ca78f6b66d79",
   "metadata": {},
   "outputs": [
    {
     "name": "stdin",
     "output_type": "stream",
     "text": [
      "Enter some text adfsdfdsf\n"
     ]
    },
    {
     "name": "stdout",
     "output_type": "stream",
     "text": [
      "Length of provided text is:  9\n"
     ]
    }
   ],
   "source": [
    "# takes a string as input\n",
    "str = input(\"Enter some text\")\n",
    "\n",
    "# prints the length of the string\n",
    "print(\"Length of provided text is: \", len(str))"
   ]
  },
  {
   "cell_type": "code",
   "execution_count": 9,
   "id": "355867f1-f8b6-462f-9032-13ac94888f82",
   "metadata": {},
   "outputs": [],
   "source": [
    "# 2. Create a program that takes a sentence from the user and counts the number of vowels (a, e, i, o, u) in the string."
   ]
  },
  {
   "cell_type": "code",
   "execution_count": 10,
   "id": "37245f5f-9840-4011-b6b9-8c0c1888463c",
   "metadata": {},
   "outputs": [
    {
     "name": "stdin",
     "output_type": "stream",
     "text": [
      "Enter some text sdfsgeertte\n"
     ]
    },
    {
     "name": "stdout",
     "output_type": "stream",
     "text": [
      "Total number of vowels:  3\n"
     ]
    }
   ],
   "source": [
    "# takes a sentence from the user\n",
    "str = input(\"Enter some text\")\n",
    "\n",
    "# declare array of vowels\n",
    "vowels = ['a', 'e', 'i', 'o', 'u', 'A', 'E', 'I', 'O', 'U']\n",
    "\n",
    "# initialize vowel counter to 0\n",
    "v = 0\n",
    "\n",
    "# loop through each character in string\n",
    "for i, char in enumerate(str):\n",
    "    # check if character is in loop, increment vowel counter by 1\n",
    "    if char in vowels:\n",
    "        v += 1\n",
    "\n",
    "# display total number of vowels\n",
    "print(\"Total number of vowels: \", v)"
   ]
  },
  {
   "cell_type": "code",
   "execution_count": 11,
   "id": "a5d62faf-acfe-4df8-bb3a-2ed336e92d53",
   "metadata": {},
   "outputs": [],
   "source": [
    "# 3. Given a string, reverse the order of characters using string slicing and print the reversed string."
   ]
  },
  {
   "cell_type": "code",
   "execution_count": 12,
   "id": "154f67fa-d931-4fc3-999c-47339fcca815",
   "metadata": {},
   "outputs": [
    {
     "name": "stdin",
     "output_type": "stream",
     "text": [
      "Enter some text sdfsdf\n"
     ]
    },
    {
     "name": "stdout",
     "output_type": "stream",
     "text": [
      "Reverse string:  fdsfds\n"
     ]
    }
   ],
   "source": [
    "# takes a sentence from the user\n",
    "str = input(\"Enter some text\")\n",
    "\n",
    "# initialize reverse string as empty\n",
    "reverse = \"\"\n",
    "\n",
    "# loop through each character in string in reverse order, add character to reverse string\n",
    "for i in range(len(str)-1, -1, -1):\n",
    "    reverse += str[i]\n",
    "    \n",
    "# display reverse string\n",
    "print(\"Reverse string: \", reverse)\n",
    "    "
   ]
  },
  {
   "cell_type": "code",
   "execution_count": 13,
   "id": "067d311e-4d5d-49e7-8491-38f22905d38a",
   "metadata": {},
   "outputs": [],
   "source": [
    "# 4. Write a program that takes a string as input and checks if it is a palindrome (reads the same forwards and backwards)."
   ]
  },
  {
   "cell_type": "code",
   "execution_count": 14,
   "id": "3db6742d-652a-4d6b-9391-55a581df09d3",
   "metadata": {},
   "outputs": [
    {
     "name": "stdin",
     "output_type": "stream",
     "text": [
      "Enter some text hello world\n"
     ]
    },
    {
     "name": "stdout",
     "output_type": "stream",
     "text": [
      "It's not a pallindrome\n"
     ]
    }
   ],
   "source": [
    "# takes a string as input\n",
    "str = input(\"Enter some text\")\n",
    "\n",
    "# initialize reverse string as empty\n",
    "reverse = \"\"\n",
    "\n",
    "# loop through each character in string in reverse order, add character to reverse string\n",
    "for i in range(len(str)-1, -1, -1):\n",
    "    reverse += str[i]\n",
    "\n",
    "# check if input value and reversed value are same\n",
    "if str == reverse:\n",
    "    print(\"It's a pallindrome\")\n",
    "# check if input value and reversed value are not same\n",
    "if str != reverse:\n",
    "    print(\"It's not a pallindrome\")"
   ]
  },
  {
   "cell_type": "code",
   "execution_count": 15,
   "id": "c81fdd7d-53fd-4248-87da-ac47d7474bce",
   "metadata": {},
   "outputs": [],
   "source": [
    "# 5. Create a program that takes a string as input and removes all the spaces from it.\n",
    "#    Print the modified string without spaces."
   ]
  },
  {
   "cell_type": "code",
   "execution_count": 16,
   "id": "d3b1a176-a8ae-4176-8bcb-782810625d32",
   "metadata": {},
   "outputs": [
    {
     "name": "stdin",
     "output_type": "stream",
     "text": [
      "Enter some text hello\n"
     ]
    },
    {
     "name": "stdout",
     "output_type": "stream",
     "text": [
      "string without space:  hello\n"
     ]
    }
   ],
   "source": [
    "# take a string as input\n",
    "str = input(\"Enter some text\")\n",
    "\n",
    "# replace all spaces\n",
    "strNoSpace = str.replace(\" \", \"\")\n",
    "\n",
    "# display string without spaces\n",
    "print(\"string without space: \", strNoSpace)"
   ]
  },
  {
   "cell_type": "code",
   "execution_count": null,
   "id": "a1d5c934-eb64-4db7-8229-8ba341a9e085",
   "metadata": {},
   "outputs": [],
   "source": []
  }
 ],
 "metadata": {
  "kernelspec": {
   "display_name": "Python 3 (ipykernel)",
   "language": "python",
   "name": "python3"
  },
  "language_info": {
   "codemirror_mode": {
    "name": "ipython",
    "version": 3
   },
   "file_extension": ".py",
   "mimetype": "text/x-python",
   "name": "python",
   "nbconvert_exporter": "python",
   "pygments_lexer": "ipython3",
   "version": "3.10.8"
  }
 },
 "nbformat": 4,
 "nbformat_minor": 5
}
